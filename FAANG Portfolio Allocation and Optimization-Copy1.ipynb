{
 "cells": [
  {
   "cell_type": "code",
   "execution_count": 1,
   "metadata": {},
   "outputs": [],
   "source": [
    "#Import all neccesary packages\n",
    "import pandas as pd\n",
    "import numpy as np\n",
    "import matplotlib.pyplot as plt\n",
    "%matplotlib inline\n",
    "import quandl\n",
    "quandl.ApiConfig.api_key = \"vUnpR71xPvscRaSSA-iz\""
   ]
  },
  {
   "cell_type": "code",
   "execution_count": 2,
   "metadata": {},
   "outputs": [],
   "source": [
    "#Amount of Money Invested\n",
    "money = 1e6"
   ]
  },
  {
   "cell_type": "code",
   "execution_count": 3,
   "metadata": {},
   "outputs": [],
   "source": [
    "#Create a start and end time dataframe\n",
    "start = pd.to_datetime('2012-01-01')\n",
    "end = pd.to_datetime('2017-01-01')"
   ]
  },
  {
   "cell_type": "code",
   "execution_count": 4,
   "metadata": {},
   "outputs": [],
   "source": [
    "#Use quandl to obtain FAANG stock data\n",
    "apple = quandl.get('WIKI/AAPL.11',start_date = start,end_date = end) #Apple\n",
    "google = quandl.get('WIKI/GOOGL.11',start_date = start, end_date = end)#Google\n",
    "facebook = quandl.get('WIKI/FB.11', start_date = start, end_date = end)#Facebook\n",
    "amazon = quandl.get('WIKI/AMZN.11', start_date = start, end_date = end)#Amazon\n",
    "netflix = quandl.get('WIKI/NFLX.11', start_date = start, end_date = end)#Netflix"
   ]
  },
  {
   "cell_type": "code",
   "execution_count": 5,
   "metadata": {},
   "outputs": [],
   "source": [
    "#Calculating cumulative daily returns (normalized daily returns) of each company\n",
    "for stock_df in (facebook,apple,amazon,netflix,google): #stock_df is a placeholder for the FAANG list \n",
    "    stock_df['Cumlit. Daily Returns'] = stock_df['Adj. Close'] / stock_df.iloc[0]['Adj. Close'] "
   ]
  },
  {
   "cell_type": "code",
   "execution_count": 6,
   "metadata": {},
   "outputs": [
    {
     "data": {
      "text/html": [
       "<div>\n",
       "<style scoped>\n",
       "    .dataframe tbody tr th:only-of-type {\n",
       "        vertical-align: middle;\n",
       "    }\n",
       "\n",
       "    .dataframe tbody tr th {\n",
       "        vertical-align: top;\n",
       "    }\n",
       "\n",
       "    .dataframe thead th {\n",
       "        text-align: right;\n",
       "    }\n",
       "</style>\n",
       "<table border=\"1\" class=\"dataframe\">\n",
       "  <thead>\n",
       "    <tr style=\"text-align: right;\">\n",
       "      <th></th>\n",
       "      <th>Adj. Close</th>\n",
       "      <th>Cumlit. Daily Returns</th>\n",
       "    </tr>\n",
       "    <tr>\n",
       "      <th>Date</th>\n",
       "      <th></th>\n",
       "      <th></th>\n",
       "    </tr>\n",
       "  </thead>\n",
       "  <tbody>\n",
       "    <tr>\n",
       "      <th>2016-12-23</th>\n",
       "      <td>115.080808</td>\n",
       "      <td>2.177549</td>\n",
       "    </tr>\n",
       "    <tr>\n",
       "      <th>2016-12-27</th>\n",
       "      <td>115.811668</td>\n",
       "      <td>2.191378</td>\n",
       "    </tr>\n",
       "    <tr>\n",
       "      <th>2016-12-28</th>\n",
       "      <td>115.317843</td>\n",
       "      <td>2.182034</td>\n",
       "    </tr>\n",
       "    <tr>\n",
       "      <th>2016-12-29</th>\n",
       "      <td>115.288214</td>\n",
       "      <td>2.181473</td>\n",
       "    </tr>\n",
       "    <tr>\n",
       "      <th>2016-12-30</th>\n",
       "      <td>114.389454</td>\n",
       "      <td>2.164467</td>\n",
       "    </tr>\n",
       "  </tbody>\n",
       "</table>\n",
       "</div>"
      ],
      "text/plain": [
       "            Adj. Close  Cumlit. Daily Returns\n",
       "Date                                         \n",
       "2016-12-23  115.080808               2.177549\n",
       "2016-12-27  115.811668               2.191378\n",
       "2016-12-28  115.317843               2.182034\n",
       "2016-12-29  115.288214               2.181473\n",
       "2016-12-30  114.389454               2.164467"
      ]
     },
     "execution_count": 6,
     "metadata": {},
     "output_type": "execute_result"
    }
   ],
   "source": [
    "apple.tail()"
   ]
  },
  {
   "cell_type": "code",
   "execution_count": 8,
   "metadata": {},
   "outputs": [],
   "source": [
    "#Portfolio Allocation\n",
    "\n",
    "#We are going to allocate 20% in each company\n",
    "for stock_df, allo in zip((facebook,apple,amazon,netflix,google),[0.2,0.2,0.2,0.2,0.2]):\n",
    "    stock_df['Assest Allocation'] = stock_df['Cumlit. Daily Returns'] * allo"
   ]
  },
  {
   "cell_type": "code",
   "execution_count": 9,
   "metadata": {},
   "outputs": [
    {
     "data": {
      "text/html": [
       "<div>\n",
       "<style scoped>\n",
       "    .dataframe tbody tr th:only-of-type {\n",
       "        vertical-align: middle;\n",
       "    }\n",
       "\n",
       "    .dataframe tbody tr th {\n",
       "        vertical-align: top;\n",
       "    }\n",
       "\n",
       "    .dataframe thead th {\n",
       "        text-align: right;\n",
       "    }\n",
       "</style>\n",
       "<table border=\"1\" class=\"dataframe\">\n",
       "  <thead>\n",
       "    <tr style=\"text-align: right;\">\n",
       "      <th></th>\n",
       "      <th>Adj. Close</th>\n",
       "      <th>Cumlit. Daily Returns</th>\n",
       "      <th>Assest Allocation</th>\n",
       "    </tr>\n",
       "    <tr>\n",
       "      <th>Date</th>\n",
       "      <th></th>\n",
       "      <th></th>\n",
       "      <th></th>\n",
       "    </tr>\n",
       "  </thead>\n",
       "  <tbody>\n",
       "    <tr>\n",
       "      <th>2012-01-03</th>\n",
       "      <td>52.848787</td>\n",
       "      <td>1.000000</td>\n",
       "      <td>0.200000</td>\n",
       "    </tr>\n",
       "    <tr>\n",
       "      <th>2012-01-04</th>\n",
       "      <td>53.132802</td>\n",
       "      <td>1.005374</td>\n",
       "      <td>0.201075</td>\n",
       "    </tr>\n",
       "    <tr>\n",
       "      <th>2012-01-05</th>\n",
       "      <td>53.722681</td>\n",
       "      <td>1.016536</td>\n",
       "      <td>0.203307</td>\n",
       "    </tr>\n",
       "    <tr>\n",
       "      <th>2012-01-06</th>\n",
       "      <td>54.284287</td>\n",
       "      <td>1.027162</td>\n",
       "      <td>0.205432</td>\n",
       "    </tr>\n",
       "    <tr>\n",
       "      <th>2012-01-09</th>\n",
       "      <td>54.198183</td>\n",
       "      <td>1.025533</td>\n",
       "      <td>0.205107</td>\n",
       "    </tr>\n",
       "  </tbody>\n",
       "</table>\n",
       "</div>"
      ],
      "text/plain": [
       "            Adj. Close  Cumlit. Daily Returns  Assest Allocation\n",
       "Date                                                            \n",
       "2012-01-03   52.848787               1.000000           0.200000\n",
       "2012-01-04   53.132802               1.005374           0.201075\n",
       "2012-01-05   53.722681               1.016536           0.203307\n",
       "2012-01-06   54.284287               1.027162           0.205432\n",
       "2012-01-09   54.198183               1.025533           0.205107"
      ]
     },
     "execution_count": 9,
     "metadata": {},
     "output_type": "execute_result"
    }
   ],
   "source": [
    "apple.head()"
   ]
  },
  {
   "cell_type": "code",
   "execution_count": 10,
   "metadata": {},
   "outputs": [],
   "source": [
    "for stock_df in (facebook,apple,amazon,netflix,google):\n",
    "    stock_df['Positional Value'] = stock_df['Assest Allocation'] * money"
   ]
  },
  {
   "cell_type": "code",
   "execution_count": 11,
   "metadata": {},
   "outputs": [
    {
     "data": {
      "text/html": [
       "<div>\n",
       "<style scoped>\n",
       "    .dataframe tbody tr th:only-of-type {\n",
       "        vertical-align: middle;\n",
       "    }\n",
       "\n",
       "    .dataframe tbody tr th {\n",
       "        vertical-align: top;\n",
       "    }\n",
       "\n",
       "    .dataframe thead th {\n",
       "        text-align: right;\n",
       "    }\n",
       "</style>\n",
       "<table border=\"1\" class=\"dataframe\">\n",
       "  <thead>\n",
       "    <tr style=\"text-align: right;\">\n",
       "      <th></th>\n",
       "      <th>Adj. Close</th>\n",
       "      <th>Cumlit. Daily Returns</th>\n",
       "      <th>Assest Allocation</th>\n",
       "      <th>Positional Value</th>\n",
       "    </tr>\n",
       "    <tr>\n",
       "      <th>Date</th>\n",
       "      <th></th>\n",
       "      <th></th>\n",
       "      <th></th>\n",
       "      <th></th>\n",
       "    </tr>\n",
       "  </thead>\n",
       "  <tbody>\n",
       "    <tr>\n",
       "      <th>2012-05-18</th>\n",
       "      <td>38.2318</td>\n",
       "      <td>1.000000</td>\n",
       "      <td>0.200000</td>\n",
       "      <td>200000.000000</td>\n",
       "    </tr>\n",
       "    <tr>\n",
       "      <th>2012-05-21</th>\n",
       "      <td>34.0300</td>\n",
       "      <td>0.890097</td>\n",
       "      <td>0.178019</td>\n",
       "      <td>178019.345152</td>\n",
       "    </tr>\n",
       "    <tr>\n",
       "      <th>2012-05-22</th>\n",
       "      <td>31.0000</td>\n",
       "      <td>0.810843</td>\n",
       "      <td>0.162169</td>\n",
       "      <td>162168.665875</td>\n",
       "    </tr>\n",
       "    <tr>\n",
       "      <th>2012-05-23</th>\n",
       "      <td>32.0000</td>\n",
       "      <td>0.837000</td>\n",
       "      <td>0.167400</td>\n",
       "      <td>167399.913161</td>\n",
       "    </tr>\n",
       "    <tr>\n",
       "      <th>2012-05-24</th>\n",
       "      <td>33.0300</td>\n",
       "      <td>0.863940</td>\n",
       "      <td>0.172788</td>\n",
       "      <td>172788.097866</td>\n",
       "    </tr>\n",
       "  </tbody>\n",
       "</table>\n",
       "</div>"
      ],
      "text/plain": [
       "            Adj. Close  Cumlit. Daily Returns  Assest Allocation  \\\n",
       "Date                                                               \n",
       "2012-05-18     38.2318               1.000000           0.200000   \n",
       "2012-05-21     34.0300               0.890097           0.178019   \n",
       "2012-05-22     31.0000               0.810843           0.162169   \n",
       "2012-05-23     32.0000               0.837000           0.167400   \n",
       "2012-05-24     33.0300               0.863940           0.172788   \n",
       "\n",
       "            Positional Value  \n",
       "Date                          \n",
       "2012-05-18     200000.000000  \n",
       "2012-05-21     178019.345152  \n",
       "2012-05-22     162168.665875  \n",
       "2012-05-23     167399.913161  \n",
       "2012-05-24     172788.097866  "
      ]
     },
     "execution_count": 11,
     "metadata": {},
     "output_type": "execute_result"
    }
   ],
   "source": [
    "facebook.head()"
   ]
  },
  {
   "cell_type": "code",
   "execution_count": 12,
   "metadata": {},
   "outputs": [],
   "source": [
    "all_pos_values = [facebook['Positional Value'],amazon['Positional Value'],apple['Positional Value'],\n",
    "                 netflix['Positional Value'],google['Positional Value']]\n",
    "portfolio_value = pd.concat(all_pos_values, axis = 1)\n",
    "portfolio_value.columns = ['Facebook Position','Amazon Position', 'Apple Position','Netflix Position','Google Position' ]"
   ]
  },
  {
   "cell_type": "code",
   "execution_count": 13,
   "metadata": {},
   "outputs": [
    {
     "data": {
      "text/html": [
       "<div>\n",
       "<style scoped>\n",
       "    .dataframe tbody tr th:only-of-type {\n",
       "        vertical-align: middle;\n",
       "    }\n",
       "\n",
       "    .dataframe tbody tr th {\n",
       "        vertical-align: top;\n",
       "    }\n",
       "\n",
       "    .dataframe thead th {\n",
       "        text-align: right;\n",
       "    }\n",
       "</style>\n",
       "<table border=\"1\" class=\"dataframe\">\n",
       "  <thead>\n",
       "    <tr style=\"text-align: right;\">\n",
       "      <th></th>\n",
       "      <th>Facebook Position</th>\n",
       "      <th>Amazon Position</th>\n",
       "      <th>Apple Position</th>\n",
       "      <th>Netflix Position</th>\n",
       "      <th>Google Position</th>\n",
       "    </tr>\n",
       "    <tr>\n",
       "      <th>Date</th>\n",
       "      <th></th>\n",
       "      <th></th>\n",
       "      <th></th>\n",
       "      <th></th>\n",
       "      <th></th>\n",
       "    </tr>\n",
       "  </thead>\n",
       "  <tbody>\n",
       "    <tr>\n",
       "      <th>2016-12-23</th>\n",
       "      <td>613468.369263</td>\n",
       "      <td>849678.824778</td>\n",
       "      <td>435509.744719</td>\n",
       "      <td>2.433915e+06</td>\n",
       "      <td>484096.360912</td>\n",
       "    </tr>\n",
       "    <tr>\n",
       "      <th>2016-12-27</th>\n",
       "      <td>617339.492255</td>\n",
       "      <td>861755.013126</td>\n",
       "      <td>438275.597887</td>\n",
       "      <td>2.487403e+06</td>\n",
       "      <td>485372.821978</td>\n",
       "    </tr>\n",
       "    <tr>\n",
       "      <th>2016-12-28</th>\n",
       "      <td>611637.432713</td>\n",
       "      <td>862570.518907</td>\n",
       "      <td>436406.778179</td>\n",
       "      <td>2.439729e+06</td>\n",
       "      <td>482160.694601</td>\n",
       "    </tr>\n",
       "    <tr>\n",
       "      <th>2016-12-29</th>\n",
       "      <td>608655.621760</td>\n",
       "      <td>854772.943082</td>\n",
       "      <td>436294.648996</td>\n",
       "      <td>2.428876e+06</td>\n",
       "      <td>481147.915634</td>\n",
       "    </tr>\n",
       "    <tr>\n",
       "      <th>2016-12-30</th>\n",
       "      <td>601855.000288</td>\n",
       "      <td>837703.178238</td>\n",
       "      <td>432893.397128</td>\n",
       "      <td>2.399225e+06</td>\n",
       "      <td>474897.451355</td>\n",
       "    </tr>\n",
       "  </tbody>\n",
       "</table>\n",
       "</div>"
      ],
      "text/plain": [
       "            Facebook Position  Amazon Position  Apple Position  \\\n",
       "Date                                                             \n",
       "2016-12-23      613468.369263    849678.824778   435509.744719   \n",
       "2016-12-27      617339.492255    861755.013126   438275.597887   \n",
       "2016-12-28      611637.432713    862570.518907   436406.778179   \n",
       "2016-12-29      608655.621760    854772.943082   436294.648996   \n",
       "2016-12-30      601855.000288    837703.178238   432893.397128   \n",
       "\n",
       "            Netflix Position  Google Position  \n",
       "Date                                           \n",
       "2016-12-23      2.433915e+06    484096.360912  \n",
       "2016-12-27      2.487403e+06    485372.821978  \n",
       "2016-12-28      2.439729e+06    482160.694601  \n",
       "2016-12-29      2.428876e+06    481147.915634  \n",
       "2016-12-30      2.399225e+06    474897.451355  "
      ]
     },
     "execution_count": 13,
     "metadata": {},
     "output_type": "execute_result"
    }
   ],
   "source": [
    "portfolio_value.tail()"
   ]
  },
  {
   "cell_type": "code",
   "execution_count": 14,
   "metadata": {},
   "outputs": [
    {
     "data": {
      "text/html": [
       "<div>\n",
       "<style scoped>\n",
       "    .dataframe tbody tr th:only-of-type {\n",
       "        vertical-align: middle;\n",
       "    }\n",
       "\n",
       "    .dataframe tbody tr th {\n",
       "        vertical-align: top;\n",
       "    }\n",
       "\n",
       "    .dataframe thead th {\n",
       "        text-align: right;\n",
       "    }\n",
       "</style>\n",
       "<table border=\"1\" class=\"dataframe\">\n",
       "  <thead>\n",
       "    <tr style=\"text-align: right;\">\n",
       "      <th></th>\n",
       "      <th>Facebook Position</th>\n",
       "      <th>Amazon Position</th>\n",
       "      <th>Apple Position</th>\n",
       "      <th>Netflix Position</th>\n",
       "      <th>Google Position</th>\n",
       "      <th>Total Value of Portfolio</th>\n",
       "    </tr>\n",
       "    <tr>\n",
       "      <th>Date</th>\n",
       "      <th></th>\n",
       "      <th></th>\n",
       "      <th></th>\n",
       "      <th></th>\n",
       "      <th></th>\n",
       "      <th></th>\n",
       "    </tr>\n",
       "  </thead>\n",
       "  <tbody>\n",
       "    <tr>\n",
       "      <th>2016-12-23</th>\n",
       "      <td>613468.369263</td>\n",
       "      <td>849678.824778</td>\n",
       "      <td>435509.744719</td>\n",
       "      <td>2.433915e+06</td>\n",
       "      <td>484096.360912</td>\n",
       "      <td>4.816668e+06</td>\n",
       "    </tr>\n",
       "    <tr>\n",
       "      <th>2016-12-27</th>\n",
       "      <td>617339.492255</td>\n",
       "      <td>861755.013126</td>\n",
       "      <td>438275.597887</td>\n",
       "      <td>2.487403e+06</td>\n",
       "      <td>485372.821978</td>\n",
       "      <td>4.890146e+06</td>\n",
       "    </tr>\n",
       "    <tr>\n",
       "      <th>2016-12-28</th>\n",
       "      <td>611637.432713</td>\n",
       "      <td>862570.518907</td>\n",
       "      <td>436406.778179</td>\n",
       "      <td>2.439729e+06</td>\n",
       "      <td>482160.694601</td>\n",
       "      <td>4.832504e+06</td>\n",
       "    </tr>\n",
       "    <tr>\n",
       "      <th>2016-12-29</th>\n",
       "      <td>608655.621760</td>\n",
       "      <td>854772.943082</td>\n",
       "      <td>436294.648996</td>\n",
       "      <td>2.428876e+06</td>\n",
       "      <td>481147.915634</td>\n",
       "      <td>4.809747e+06</td>\n",
       "    </tr>\n",
       "    <tr>\n",
       "      <th>2016-12-30</th>\n",
       "      <td>601855.000288</td>\n",
       "      <td>837703.178238</td>\n",
       "      <td>432893.397128</td>\n",
       "      <td>2.399225e+06</td>\n",
       "      <td>474897.451355</td>\n",
       "      <td>4.746574e+06</td>\n",
       "    </tr>\n",
       "  </tbody>\n",
       "</table>\n",
       "</div>"
      ],
      "text/plain": [
       "            Facebook Position  Amazon Position  Apple Position  \\\n",
       "Date                                                             \n",
       "2016-12-23      613468.369263    849678.824778   435509.744719   \n",
       "2016-12-27      617339.492255    861755.013126   438275.597887   \n",
       "2016-12-28      611637.432713    862570.518907   436406.778179   \n",
       "2016-12-29      608655.621760    854772.943082   436294.648996   \n",
       "2016-12-30      601855.000288    837703.178238   432893.397128   \n",
       "\n",
       "            Netflix Position  Google Position  Total Value of Portfolio  \n",
       "Date                                                                     \n",
       "2016-12-23      2.433915e+06    484096.360912              4.816668e+06  \n",
       "2016-12-27      2.487403e+06    485372.821978              4.890146e+06  \n",
       "2016-12-28      2.439729e+06    482160.694601              4.832504e+06  \n",
       "2016-12-29      2.428876e+06    481147.915634              4.809747e+06  \n",
       "2016-12-30      2.399225e+06    474897.451355              4.746574e+06  "
      ]
     },
     "execution_count": 14,
     "metadata": {},
     "output_type": "execute_result"
    }
   ],
   "source": [
    "#Now we want the total value of the portfolio\n",
    "portfolio_value['Total Value of Portfolio'] = portfolio_value.sum(axis = 1)\n",
    "portfolio_value.tail()"
   ]
  },
  {
   "cell_type": "code",
   "execution_count": 15,
   "metadata": {},
   "outputs": [
    {
     "data": {
      "text/plain": [
       "<matplotlib.axes._subplots.AxesSubplot at 0x255e51ec548>"
      ]
     },
     "execution_count": 15,
     "metadata": {},
     "output_type": "execute_result"
    },
    {
     "data": {
      "image/png": "[encoded data removed]",
      "text/plain": [
       "<Figure size 720x576 with 1 Axes>"
      ]
     },
     "metadata": {
      "needs_background": "light"
     },
     "output_type": "display_data"
    }
   ],
   "source": [
    "portfolio_value['Total Value of Portfolio'].plot(figsize = (10,8))"
   ]
  },
  {
   "cell_type": "code",
   "execution_count": 16,
   "metadata": {},
   "outputs": [
    {
     "data": {
      "text/plain": [
       "<matplotlib.axes._subplots.AxesSubplot at 0x255e5905f88>"
      ]
     },
     "execution_count": 16,
     "metadata": {},
     "output_type": "execute_result"
    },
    {
     "data": {
      "image/png": "[encoded data removed]",
      "text/plain": [
       "<Figure size 720x576 with 1 Axes>"
      ]
     },
     "metadata": {
      "needs_background": "light"
     },
     "output_type": "display_data"
    }
   ],
   "source": [
    "portfolio_value.drop('Total Value of Portfolio',axis = 1).plot(figsize = (10,8))"
   ]
  },
  {
   "cell_type": "markdown",
   "metadata": {},
   "source": [
    "## Portfolio Statistics"
   ]
  },
  {
   "cell_type": "code",
   "execution_count": 17,
   "metadata": {},
   "outputs": [
    {
     "data": {
      "text/html": [
       "<div>\n",
       "<style scoped>\n",
       "    .dataframe tbody tr th:only-of-type {\n",
       "        vertical-align: middle;\n",
       "    }\n",
       "\n",
       "    .dataframe tbody tr th {\n",
       "        vertical-align: top;\n",
       "    }\n",
       "\n",
       "    .dataframe thead th {\n",
       "        text-align: right;\n",
       "    }\n",
       "</style>\n",
       "<table border=\"1\" class=\"dataframe\">\n",
       "  <thead>\n",
       "    <tr style=\"text-align: right;\">\n",
       "      <th></th>\n",
       "      <th>Facebook Position</th>\n",
       "      <th>Amazon Position</th>\n",
       "      <th>Apple Position</th>\n",
       "      <th>Netflix Position</th>\n",
       "      <th>Google Position</th>\n",
       "      <th>Total Value of Portfolio</th>\n",
       "    </tr>\n",
       "    <tr>\n",
       "      <th>Date</th>\n",
       "      <th></th>\n",
       "      <th></th>\n",
       "      <th></th>\n",
       "      <th></th>\n",
       "      <th></th>\n",
       "      <th></th>\n",
       "    </tr>\n",
       "  </thead>\n",
       "  <tbody>\n",
       "    <tr>\n",
       "      <th>2016-12-23</th>\n",
       "      <td>613468.369263</td>\n",
       "      <td>849678.824778</td>\n",
       "      <td>435509.744719</td>\n",
       "      <td>2.433915e+06</td>\n",
       "      <td>484096.360912</td>\n",
       "      <td>4.816668e+06</td>\n",
       "    </tr>\n",
       "    <tr>\n",
       "      <th>2016-12-27</th>\n",
       "      <td>617339.492255</td>\n",
       "      <td>861755.013126</td>\n",
       "      <td>438275.597887</td>\n",
       "      <td>2.487403e+06</td>\n",
       "      <td>485372.821978</td>\n",
       "      <td>4.890146e+06</td>\n",
       "    </tr>\n",
       "    <tr>\n",
       "      <th>2016-12-28</th>\n",
       "      <td>611637.432713</td>\n",
       "      <td>862570.518907</td>\n",
       "      <td>436406.778179</td>\n",
       "      <td>2.439729e+06</td>\n",
       "      <td>482160.694601</td>\n",
       "      <td>4.832504e+06</td>\n",
       "    </tr>\n",
       "    <tr>\n",
       "      <th>2016-12-29</th>\n",
       "      <td>608655.621760</td>\n",
       "      <td>854772.943082</td>\n",
       "      <td>436294.648996</td>\n",
       "      <td>2.428876e+06</td>\n",
       "      <td>481147.915634</td>\n",
       "      <td>4.809747e+06</td>\n",
       "    </tr>\n",
       "    <tr>\n",
       "      <th>2016-12-30</th>\n",
       "      <td>601855.000288</td>\n",
       "      <td>837703.178238</td>\n",
       "      <td>432893.397128</td>\n",
       "      <td>2.399225e+06</td>\n",
       "      <td>474897.451355</td>\n",
       "      <td>4.746574e+06</td>\n",
       "    </tr>\n",
       "  </tbody>\n",
       "</table>\n",
       "</div>"
      ],
      "text/plain": [
       "            Facebook Position  Amazon Position  Apple Position  \\\n",
       "Date                                                             \n",
       "2016-12-23      613468.369263    849678.824778   435509.744719   \n",
       "2016-12-27      617339.492255    861755.013126   438275.597887   \n",
       "2016-12-28      611637.432713    862570.518907   436406.778179   \n",
       "2016-12-29      608655.621760    854772.943082   436294.648996   \n",
       "2016-12-30      601855.000288    837703.178238   432893.397128   \n",
       "\n",
       "            Netflix Position  Google Position  Total Value of Portfolio  \n",
       "Date                                                                     \n",
       "2016-12-23      2.433915e+06    484096.360912              4.816668e+06  \n",
       "2016-12-27      2.487403e+06    485372.821978              4.890146e+06  \n",
       "2016-12-28      2.439729e+06    482160.694601              4.832504e+06  \n",
       "2016-12-29      2.428876e+06    481147.915634              4.809747e+06  \n",
       "2016-12-30      2.399225e+06    474897.451355              4.746574e+06  "
      ]
     },
     "execution_count": 17,
     "metadata": {},
     "output_type": "execute_result"
    }
   ],
   "source": [
    "portfolio_value.tail()"
   ]
  },
  {
   "cell_type": "code",
   "execution_count": 18,
   "metadata": {},
   "outputs": [
    {
     "data": {
      "text/html": [
       "<div>\n",
       "<style scoped>\n",
       "    .dataframe tbody tr th:only-of-type {\n",
       "        vertical-align: middle;\n",
       "    }\n",
       "\n",
       "    .dataframe tbody tr th {\n",
       "        vertical-align: top;\n",
       "    }\n",
       "\n",
       "    .dataframe thead th {\n",
       "        text-align: right;\n",
       "    }\n",
       "</style>\n",
       "<table border=\"1\" class=\"dataframe\">\n",
       "  <thead>\n",
       "    <tr style=\"text-align: right;\">\n",
       "      <th></th>\n",
       "      <th>Facebook Position</th>\n",
       "      <th>Amazon Position</th>\n",
       "      <th>Apple Position</th>\n",
       "      <th>Netflix Position</th>\n",
       "      <th>Google Position</th>\n",
       "      <th>Total Value of Portfolio</th>\n",
       "      <th>Daily Return</th>\n",
       "    </tr>\n",
       "    <tr>\n",
       "      <th>Date</th>\n",
       "      <th></th>\n",
       "      <th></th>\n",
       "      <th></th>\n",
       "      <th></th>\n",
       "      <th></th>\n",
       "      <th></th>\n",
       "      <th></th>\n",
       "    </tr>\n",
       "  </thead>\n",
       "  <tbody>\n",
       "    <tr>\n",
       "      <th>2012-01-03</th>\n",
       "      <td>NaN</td>\n",
       "      <td>200000.000000</td>\n",
       "      <td>200000.000000</td>\n",
       "      <td>200000.000000</td>\n",
       "      <td>200000.000000</td>\n",
       "      <td>800000.000000</td>\n",
       "      <td>NaN</td>\n",
       "    </tr>\n",
       "    <tr>\n",
       "      <th>2012-01-04</th>\n",
       "      <td>NaN</td>\n",
       "      <td>198301.960565</td>\n",
       "      <td>201074.824308</td>\n",
       "      <td>222729.789590</td>\n",
       "      <td>200862.626050</td>\n",
       "      <td>822969.200513</td>\n",
       "      <td>0.028712</td>\n",
       "    </tr>\n",
       "    <tr>\n",
       "      <th>2012-01-05</th>\n",
       "      <td>NaN</td>\n",
       "      <td>198413.673686</td>\n",
       "      <td>203307.151716</td>\n",
       "      <td>219545.957918</td>\n",
       "      <td>198076.373965</td>\n",
       "      <td>819343.157285</td>\n",
       "      <td>-0.004406</td>\n",
       "    </tr>\n",
       "    <tr>\n",
       "      <th>2012-01-06</th>\n",
       "      <td>NaN</td>\n",
       "      <td>203999.329721</td>\n",
       "      <td>205432.483039</td>\n",
       "      <td>238898.117386</td>\n",
       "      <td>195374.280519</td>\n",
       "      <td>843704.210665</td>\n",
       "      <td>0.029732</td>\n",
       "    </tr>\n",
       "    <tr>\n",
       "      <th>2012-01-09</th>\n",
       "      <td>NaN</td>\n",
       "      <td>199474.948333</td>\n",
       "      <td>205106.631326</td>\n",
       "      <td>271816.168328</td>\n",
       "      <td>187090.665905</td>\n",
       "      <td>863488.413891</td>\n",
       "      <td>0.023449</td>\n",
       "    </tr>\n",
       "  </tbody>\n",
       "</table>\n",
       "</div>"
      ],
      "text/plain": [
       "            Facebook Position  Amazon Position  Apple Position  \\\n",
       "Date                                                             \n",
       "2012-01-03                NaN    200000.000000   200000.000000   \n",
       "2012-01-04                NaN    198301.960565   201074.824308   \n",
       "2012-01-05                NaN    198413.673686   203307.151716   \n",
       "2012-01-06                NaN    203999.329721   205432.483039   \n",
       "2012-01-09                NaN    199474.948333   205106.631326   \n",
       "\n",
       "            Netflix Position  Google Position  Total Value of Portfolio  \\\n",
       "Date                                                                      \n",
       "2012-01-03     200000.000000    200000.000000             800000.000000   \n",
       "2012-01-04     222729.789590    200862.626050             822969.200513   \n",
       "2012-01-05     219545.957918    198076.373965             819343.157285   \n",
       "2012-01-06     238898.117386    195374.280519             843704.210665   \n",
       "2012-01-09     271816.168328    187090.665905             863488.413891   \n",
       "\n",
       "            Daily Return  \n",
       "Date                      \n",
       "2012-01-03           NaN  \n",
       "2012-01-04      0.028712  \n",
       "2012-01-05     -0.004406  \n",
       "2012-01-06      0.029732  \n",
       "2012-01-09      0.023449  "
      ]
     },
     "execution_count": 18,
     "metadata": {},
     "output_type": "execute_result"
    }
   ],
   "source": [
    "#Calculate the percentage change in the total portfolio value\n",
    "portfolio_value['Daily Return'] = portfolio_value['Total Value of Portfolio'].pct_change(1)\n",
    "portfolio_value.head()"
   ]
  },
  {
   "cell_type": "code",
   "execution_count": 19,
   "metadata": {},
   "outputs": [
    {
     "data": {
      "text/plain": [
       "0.0015782775600363744"
      ]
     },
     "execution_count": 19,
     "metadata": {},
     "output_type": "execute_result"
    }
   ],
   "source": [
    "#Average Daily Return\n",
    "portfolio_value['Daily Return'].mean()"
   ]
  },
  {
   "cell_type": "code",
   "execution_count": 20,
   "metadata": {},
   "outputs": [
    {
     "data": {
      "text/plain": [
       "0.01807608582667882"
      ]
     },
     "execution_count": 20,
     "metadata": {},
     "output_type": "execute_result"
    }
   ],
   "source": [
    "#std of the Daily Return\n",
    "portfolio_value['Daily Return'].std()"
   ]
  },
  {
   "cell_type": "code",
   "execution_count": 21,
   "metadata": {},
   "outputs": [
    {
     "data": {
      "text/plain": [
       "<matplotlib.axes._subplots.AxesSubplot at 0x255e5a0c288>"
      ]
     },
     "execution_count": 21,
     "metadata": {},
     "output_type": "execute_result"
    },
    {
     "data": {
      "image/png": "[encoded data removed]",
      "text/plain": [
       "<Figure size 288x360 with 1 Axes>"
      ]
     },
     "metadata": {
      "needs_background": "light"
     },
     "output_type": "display_data"
    }
   ],
   "source": [
    "#Plot the daily return using a histogram\n",
    "portfolio_value['Daily Return'].plot(kind = 'hist',figsize = (4,5), bins = 60)"
   ]
  },
  {
   "cell_type": "code",
   "execution_count": 22,
   "metadata": {},
   "outputs": [
    {
     "data": {
      "text/plain": [
       "<matplotlib.axes._subplots.AxesSubplot at 0x255e5a39408>"
      ]
     },
     "execution_count": 22,
     "metadata": {},
     "output_type": "execute_result"
    },
    {
     "data": {
      "image/png": "[encoded data removed]",
      "text/plain": [
       "<Figure size 288x360 with 1 Axes>"
      ]
     },
     "metadata": {
      "needs_background": "light"
     },
     "output_type": "display_data"
    }
   ],
   "source": [
    "#Plot the daily return using a kernel density plot\n",
    "portfolio_value['Daily Return'].plot(kind = 'kde', figsize = (4,5))"
   ]
  },
  {
   "cell_type": "code",
   "execution_count": 23,
   "metadata": {},
   "outputs": [],
   "source": [
    "#Overall percentage on return (overall cumulative return)\n",
    "cumulative_return = 100 * (portfolio_value['Total Value of Portfolio'][-1] / portfolio_value['Total Value of Portfolio'][0] - 1)"
   ]
  },
  {
   "cell_type": "code",
   "execution_count": 24,
   "metadata": {},
   "outputs": [
    {
     "data": {
      "text/plain": [
       "493.3217291513597"
      ]
     },
     "execution_count": 24,
     "metadata": {},
     "output_type": "execute_result"
    }
   ],
   "source": [
    "cumulative_return"
   ]
  },
  {
   "cell_type": "code",
   "execution_count": 25,
   "metadata": {},
   "outputs": [
    {
     "data": {
      "text/plain": [
       "0.0873130153933528"
      ]
     },
     "execution_count": 25,
     "metadata": {},
     "output_type": "execute_result"
    }
   ],
   "source": [
    "#Calculate the risk adjusted return\n",
    "SR = portfolio_value['Daily Return'].mean() / portfolio_value['Daily Return'].std()\n",
    "SR"
   ]
  },
  {
   "cell_type": "code",
   "execution_count": 26,
   "metadata": {},
   "outputs": [
    {
     "data": {
      "text/plain": [
       "1.3942770447638322"
      ]
     },
     "execution_count": 26,
     "metadata": {},
     "output_type": "execute_result"
    }
   ],
   "source": [
    "#Annualized Sharpe Ratio\n",
    "ASR = (255**0.5) * SR\n",
    "ASR"
   ]
  },
  {
   "cell_type": "code",
   "execution_count": 27,
   "metadata": {},
   "outputs": [
    {
     "data": {
      "text/html": [
       "<div>\n",
       "<style scoped>\n",
       "    .dataframe tbody tr th:only-of-type {\n",
       "        vertical-align: middle;\n",
       "    }\n",
       "\n",
       "    .dataframe tbody tr th {\n",
       "        vertical-align: top;\n",
       "    }\n",
       "\n",
       "    .dataframe thead th {\n",
       "        text-align: right;\n",
       "    }\n",
       "</style>\n",
       "<table border=\"1\" class=\"dataframe\">\n",
       "  <thead>\n",
       "    <tr style=\"text-align: right;\">\n",
       "      <th></th>\n",
       "      <th>Facebook Position</th>\n",
       "      <th>Amazon Position</th>\n",
       "      <th>Apple Position</th>\n",
       "      <th>Netflix Position</th>\n",
       "      <th>Google Position</th>\n",
       "      <th>Total Value of Portfolio</th>\n",
       "      <th>Daily Return</th>\n",
       "    </tr>\n",
       "    <tr>\n",
       "      <th>Date</th>\n",
       "      <th></th>\n",
       "      <th></th>\n",
       "      <th></th>\n",
       "      <th></th>\n",
       "      <th></th>\n",
       "      <th></th>\n",
       "      <th></th>\n",
       "    </tr>\n",
       "  </thead>\n",
       "  <tbody>\n",
       "    <tr>\n",
       "      <th>2016-12-23</th>\n",
       "      <td>613468.369263</td>\n",
       "      <td>849678.824778</td>\n",
       "      <td>435509.744719</td>\n",
       "      <td>2.433915e+06</td>\n",
       "      <td>484096.360912</td>\n",
       "      <td>4.816668e+06</td>\n",
       "      <td>-0.001488</td>\n",
       "    </tr>\n",
       "    <tr>\n",
       "      <th>2016-12-27</th>\n",
       "      <td>617339.492255</td>\n",
       "      <td>861755.013126</td>\n",
       "      <td>438275.597887</td>\n",
       "      <td>2.487403e+06</td>\n",
       "      <td>485372.821978</td>\n",
       "      <td>4.890146e+06</td>\n",
       "      <td>0.015255</td>\n",
       "    </tr>\n",
       "    <tr>\n",
       "      <th>2016-12-28</th>\n",
       "      <td>611637.432713</td>\n",
       "      <td>862570.518907</td>\n",
       "      <td>436406.778179</td>\n",
       "      <td>2.439729e+06</td>\n",
       "      <td>482160.694601</td>\n",
       "      <td>4.832504e+06</td>\n",
       "      <td>-0.011787</td>\n",
       "    </tr>\n",
       "    <tr>\n",
       "      <th>2016-12-29</th>\n",
       "      <td>608655.621760</td>\n",
       "      <td>854772.943082</td>\n",
       "      <td>436294.648996</td>\n",
       "      <td>2.428876e+06</td>\n",
       "      <td>481147.915634</td>\n",
       "      <td>4.809747e+06</td>\n",
       "      <td>-0.004709</td>\n",
       "    </tr>\n",
       "    <tr>\n",
       "      <th>2016-12-30</th>\n",
       "      <td>601855.000288</td>\n",
       "      <td>837703.178238</td>\n",
       "      <td>432893.397128</td>\n",
       "      <td>2.399225e+06</td>\n",
       "      <td>474897.451355</td>\n",
       "      <td>4.746574e+06</td>\n",
       "      <td>-0.013134</td>\n",
       "    </tr>\n",
       "  </tbody>\n",
       "</table>\n",
       "</div>"
      ],
      "text/plain": [
       "            Facebook Position  Amazon Position  Apple Position  \\\n",
       "Date                                                             \n",
       "2016-12-23      613468.369263    849678.824778   435509.744719   \n",
       "2016-12-27      617339.492255    861755.013126   438275.597887   \n",
       "2016-12-28      611637.432713    862570.518907   436406.778179   \n",
       "2016-12-29      608655.621760    854772.943082   436294.648996   \n",
       "2016-12-30      601855.000288    837703.178238   432893.397128   \n",
       "\n",
       "            Netflix Position  Google Position  Total Value of Portfolio  \\\n",
       "Date                                                                      \n",
       "2016-12-23      2.433915e+06    484096.360912              4.816668e+06   \n",
       "2016-12-27      2.487403e+06    485372.821978              4.890146e+06   \n",
       "2016-12-28      2.439729e+06    482160.694601              4.832504e+06   \n",
       "2016-12-29      2.428876e+06    481147.915634              4.809747e+06   \n",
       "2016-12-30      2.399225e+06    474897.451355              4.746574e+06   \n",
       "\n",
       "            Daily Return  \n",
       "Date                      \n",
       "2016-12-23     -0.001488  \n",
       "2016-12-27      0.015255  \n",
       "2016-12-28     -0.011787  \n",
       "2016-12-29     -0.004709  \n",
       "2016-12-30     -0.013134  "
      ]
     },
     "execution_count": 27,
     "metadata": {},
     "output_type": "execute_result"
    }
   ],
   "source": [
    "portfolio_value.tail()"
   ]
  },
  {
   "cell_type": "code",
   "execution_count": 49,
   "metadata": {},
   "outputs": [
    {
     "name": "stdout",
     "output_type": "stream",
     "text": [
      "Facebook : Very Good, sharpe ratio: 2.062190063772052\n",
      "Amazon : Very Good, sharpe ratio: 2.2220930519784923\n",
      "Apple : Excellent, sharpe ratio: 4.204286672797163\n",
      "Netflix : Good/Acceptable, sharpe ratio: 1.6521258315918403\n",
      "Google : Excellent, sharpe ratio: 3.4219904448586567\n"
     ]
    }
   ],
   "source": [
    "#We want to see the quality of our sharpe ratio for each of our stocks.\n",
    "companies_position = [portfolio_value['Facebook Position'],portfolio_value['Amazon Position'],\n",
    "                      portfolio_value['Apple Position'],portfolio_value['Netflix Position'], \n",
    "                      portfolio_value['Google Position']]\n",
    "comp_names = ['Facebook','Amazon','Apple','Netflix','Google']    \n",
    "\n",
    "for sharpe_companies,companies_nam in zip(companies_position,comp_names):\n",
    "    sharpe_calc = sharpe_companies.mean() / sharpe_companies.std()\n",
    "    if(sharpe_calc < 1):\n",
    "        print(companies_nam, \": Not good,\", \"sharpe ratio:\",\"%.2f\" % sharpe_calc)\n",
    "    elif(sharpe_calc > 1 and sharpe_calc < 2):\n",
    "        print(companies_nam , \": Good/Acceptable,\", \"sharpe ratio:\",sharpe_calc)\n",
    "    elif(sharpe_calc > 2 and sharpe_calc < 3):\n",
    "        print(companies_nam , \": Very Good,\", \"sharpe ratio:\",sharpe_calc)\n",
    "    elif(sharpe_calc > 3):\n",
    "        print(companies_nam , \": Excellent,\", \"sharpe ratio:\",sharpe_calc)"
   ]
  },
  {
   "cell_type": "markdown",
   "metadata": {},
   "source": [
    "## Optimizing FAANG Portfolio"
   ]
  },
  {
   "cell_type": "code",
   "execution_count": null,
   "metadata": {},
   "outputs": [],
   "source": []
  }
 ],
 "metadata": {
  "kernelspec": {
   "display_name": "Python 3",
   "language": "python",
   "name": "python3"
  },
  "language_info": {
   "codemirror_mode": {
    "name": "ipython",
    "version": 3
   },
   "file_extension": ".py",
   "mimetype": "text/x-python",
   "name": "python",
   "nbconvert_exporter": "python",
   "pygments_lexer": "ipython3",
   "version": "3.8.5"
  }
 },
 "nbformat": 4,
 "nbformat_minor": 4
}
